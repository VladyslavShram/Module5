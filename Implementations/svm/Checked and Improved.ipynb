{
 "cells": [
  {
   "cell_type": "code",
   "execution_count": 1,
   "metadata": {
    "collapsed": true
   },
   "outputs": [],
   "source": [
    "%matplotlib inline\n",
    "import svm\n",
    "import kernel\n",
    "import numpy as np\n",
    "import matplotlib.pyplot as plt\n",
    "import matplotlib.cm as cm\n",
    "import itertools\n",
    "\n",
    "\n",
    "\n",
    "\n",
    "def example(num_samples=20, num_features=2, grid_size=200):\n",
    "    \n",
    "    samples = np.matrix(np.random.normal(size=num_samples * num_features)\n",
    "                        .reshape(num_samples, num_features))\n",
    "    \n",
    "    labels = 2 * (samples.sum(axis=1) > 0) - 1.0\n",
    "    \n",
    "    #trainer = svm.SVMTrainer(kernel.Kernel.linear())\n",
    "    trainer = svm.SVMTrainer(kernel.Kernel.gaussian())\n",
    "    \n",
    "    predictor = trainer.train(samples, labels)\n",
    "\n",
    "    plot(predictor, samples, labels, grid_size)\n",
    "\n",
    "\n",
    "def plot(predictor, X, y, grid_size):\n",
    "    \n",
    "    x_min, x_max = X[:, 0].min() - 1, X[:, 0].max() + 1\n",
    "    y_min, y_max = X[:, 1].min() - 1, X[:, 1].max() + 1\n",
    "    \n",
    "    xx, yy = np.meshgrid(\n",
    "        np.linspace(x_min, x_max, grid_size),\n",
    "        np.linspace(y_min, y_max, grid_size),\n",
    "        indexing='ij'\n",
    "    )\n",
    "    \n",
    "    flatten = lambda m: np.array(m).reshape(-1,)\n",
    "\n",
    "    result = []\n",
    "    \n",
    "    for (i, j) in itertools.product(range(grid_size), range(grid_size)):\n",
    "        point = np.array([xx[i, j], yy[i, j]]).reshape(1, 2)\n",
    "        result.append(predictor.predict(point))\n",
    "\n",
    "    Z = np.array(result).reshape(xx.shape)\n",
    "    \n",
    "    plt.contourf(\n",
    "        xx, yy, Z,\n",
    "        cmap=cm.Paired,\n",
    "        levels=[-0.01, 0.01],\n",
    "        extend='both',\n",
    "        alpha=0.8\n",
    "    )\n",
    "    \n",
    "    \n",
    "    plt.scatter(\n",
    "        flatten(X[:, 0]),\n",
    "        flatten(X[:, 1]),\n",
    "        c=flatten(y),\n",
    "        cmap=cm.Paired\n",
    "    )\n",
    "    \n",
    "    plt.xlim(x_min, x_max)\n",
    "    plt.ylim(y_min, y_max)"
   ]
  },
  {
   "cell_type": "code",
   "execution_count": 2,
   "metadata": {},
   "outputs": [
    {
     "name": "stdout",
     "output_type": "stream",
     "text": [
      "[[ 0.0832681   0.19906879]\n",
      " [ 0.15970608  0.71236163]\n",
      " [-0.34306807 -0.83944147]\n",
      " [ 0.38274535 -0.04919   ]\n",
      " [-0.25475496  0.38090098]\n",
      " [-0.64223275 -0.01695532]\n",
      " [-0.28749797 -1.8730841 ]\n",
      " [ 0.29297423 -0.81138827]\n",
      " [ 0.81473859  0.91631174]\n",
      " [ 2.30239335  1.73444841]\n",
      " [ 0.39698559 -0.7525512 ]\n",
      " [ 0.41240175 -1.11793198]\n",
      " [ 0.46681923 -1.12899679]\n",
      " [ 0.23766717  1.80373096]\n",
      " [ 1.20477537  1.08873473]\n",
      " [ 0.33443212 -1.18582496]\n",
      " [-1.98561086  1.79219998]\n",
      " [-0.61738372  2.06419996]\n",
      " [ 0.64267775  2.04397846]\n",
      " [-0.29906417  0.16161942]]\n",
      "     pcost       dcost       gap    pres   dres\n",
      " 0: -5.4807e+00 -1.6106e+01  1e+01  1e-16  2e+00\n",
      " 1: -7.7842e+00 -1.1536e+01  4e+00  4e-16  8e-01\n",
      " 2: -1.9773e+01 -2.8200e+01  8e+00  4e-15  7e-01\n",
      " 3: -2.5000e+01 -2.8006e+01  3e+00  5e-16  1e-01\n",
      " 4: -2.5321e+01 -2.5481e+01  2e-01  4e-15  3e-03\n",
      " 5: -2.5370e+01 -2.5375e+01  4e-03  7e-15  2e-05\n",
      " 6: -2.5372e+01 -2.5372e+01  5e-05  1e-14  2e-07\n",
      " 7: -2.5372e+01 -2.5372e+01  5e-07  7e-15  2e-09\n",
      "Optimal solution found.\n"
     ]
    },
    {
     "data": {
      "image/png": "[encoded data removed]",
      "text/plain": [
       "<matplotlib.figure.Figure at 0x2849bf48828>"
      ]
     },
     "metadata": {},
     "output_type": "display_data"
    }
   ],
   "source": [
    "example()"
   ]
  },
  {
   "cell_type": "code",
   "execution_count": null,
   "metadata": {
    "collapsed": true
   },
   "outputs": [],
   "source": []
  }
 ],
 "metadata": {
  "kernelspec": {
   "display_name": "Python 3",
   "language": "python",
   "name": "python3"
  },
  "language_info": {
   "codemirror_mode": {
    "name": "ipython",
    "version": 3
   },
   "file_extension": ".py",
   "mimetype": "text/x-python",
   "name": "python",
   "nbconvert_exporter": "python",
   "pygments_lexer": "ipython3",
   "version": "3.6.1"
  }
 },
 "nbformat": 4,
 "nbformat_minor": 2
}
